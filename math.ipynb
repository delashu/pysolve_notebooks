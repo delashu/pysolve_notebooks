{
 "cells": [
  {
   "cell_type": "markdown",
   "metadata": {},
   "source": [
    "Question 1: \n",
    "Prime Power Triples\n",
    "link: https://projecteuler.net/problem=87\n",
    "\n",
    "Solved by fewer than 25,000 people"
   ]
  },
  {
   "cell_type": "code",
   "execution_count": 10,
   "metadata": {},
   "outputs": [
    {
     "name": "stdout",
     "output_type": "stream",
     "text": [
      "1097343\n"
     ]
    }
   ],
   "source": [
    "import numpy as np\n",
    "import math \n",
    "from itertools import product\n",
    "\n",
    "def prime_powers(upper_limit = 50000000):\n",
    "    \"\"\"\n",
    "    Input: upper limit integer sum of a prime square, prime cube, and prime fourth power. Default is fifty million    \n",
    "\n",
    "    Output: Unique numbers that can be expressed as the sum (less than fifty million) of a prime square, prime cube, and prime fourth power. \n",
    "\n",
    "    Behavior: This function takes the user input (default of fifty million) and first creates three upper limits of prime numbers to loop through. \n",
    "    Once the three limits are set, the function calculates the sum of a prime square, prime cube, and prime fourth power. If the sum is unique, the function adds to a counter. \n",
    "    \"\"\"    \n",
    "    #set the first prime\n",
    "    pnum = 2\n",
    "    #create an empty list for which the primes will be stored: \n",
    "    primes = []\n",
    "    #create three upper limits to iterate through\n",
    "    limit_one = math.ceil(math.sqrt(upper_limit - (2**3 + 2**4)))\n",
    "    limit_two= math.ceil((upper_limit - (2**2 + 2**4) )**(1/3))\n",
    "    limit_three= math.ceil((upper_limit - (2**2 + 2**4) )**(1/4))\n",
    "    #while loop to create primes based on the three upper limits. \n",
    "    while True: \n",
    "        for i in range(2, int(math.sqrt(pnum)+1)):\n",
    "            if pnum%i==0:\n",
    "                break\n",
    "        else:\n",
    "            primes.append(pnum)\n",
    "            #ensure that the primes we are making do not exceed the first limit\n",
    "            if pnum>limit_one:\n",
    "                break\n",
    "        pnum+=1\n",
    "    #first list to iterate through\n",
    "    primes_one = primes\n",
    "    #second list to iterate through\n",
    "    primes_two = primes[:limit_two]\n",
    "    #third list to iterate through\n",
    "    primes_three = primes[:limit_three]\n",
    "    #create empty set to update that stores the UNIQUE sums\n",
    "    out_list=set()\n",
    "    #loop through each limit\n",
    "    for p_one in primes_one:\n",
    "        for p_two in primes_two: \n",
    "            for p_three in primes_three:\n",
    "                psum = p_one**2 + p_two**3 + p_three**4\n",
    "                if psum > 50000000:\n",
    "                    break\n",
    "                else:\n",
    "                    out_list.update([psum])\n",
    "    return len(out_list)\n",
    "print(prime_powers(upper_limit = 50000000))\n"
   ]
  },
  {
   "cell_type": "markdown",
   "metadata": {},
   "source": [
    "Permuted Multiples\n",
    "link: https://projecteuler.net/problem=52\n",
    "\n",
    "Solved by fewer than 100,000 people"
   ]
  },
  {
   "cell_type": "code",
   "execution_count": 11,
   "metadata": {},
   "outputs": [
    {
     "data": {
      "text/plain": [
       "142857"
      ]
     },
     "execution_count": 11,
     "metadata": {},
     "output_type": "execute_result"
    }
   ],
   "source": [
    "def permuted_multiples(my_input=2): \n",
    "    \"\"\"\n",
    "    This function solves the Permuted Multiples problem. \n",
    "    Input: default of integer value of 2\n",
    "    Output: The smallest integer,x in which 2x, 3x, 4x, 5x, and 6x, contain the same digits. \n",
    "    \"\"\"\n",
    "    #assign the user input value to a new variable\n",
    "    itr=my_input\n",
    "    #create an indicator variable for the While loop\n",
    "    ind=\"no\"\n",
    "    #while the indicator variable is \"no\":\n",
    "    while ind==\"no\":\n",
    "        #iterate through 6 - 1\n",
    "        for i in reversed(range(1,7)):\n",
    "            #multiply the input by the iteration number\n",
    "            vals=itr*i\n",
    "            #strip the digits from the product and place into a list\n",
    "            strvals = list(map(int, str(vals)))\n",
    "            #reassign the list to list, \"a\"\n",
    "            a = strvals\n",
    "            #If we are at the start of the for loop:\n",
    "            if i==max(range(1,7)): \n",
    "                #assign the list to, \"b\" for comparison purposes\n",
    "                b=strvals\n",
    "            else:\n",
    "                #check if the length of the lists and the unique value within the lists are the same\n",
    "                if len(a)==len(b) and set(a)==set(b):\n",
    "                    #if the values are the same AND we are at the end of the loop, we've solved the problem\n",
    "                    if i==min(range(1,7)):\n",
    "                        #capture the number\n",
    "                        return(itr)\n",
    "                        #break the while loop\n",
    "                        ind =\"yes\"\n",
    "                        break\n",
    "                    else: \n",
    "                        #if we are not at the end of the loop, keep going\n",
    "                        continue\n",
    "                else:\n",
    "                    #length of the lists or the sets of the lists are NOT the same \n",
    "                    #thus, we move onto the next possible integer\n",
    "                    itr+=1\n",
    "                    #reset the i value to the max of range(1,7)\n",
    "                    i=6\n",
    "                    #break the inner for loop\n",
    "                    break\n",
    "permuted_multiples(my_input=2)"
   ]
  },
  {
   "cell_type": "markdown",
   "metadata": {},
   "source": [
    "Sum Square Difference\n",
    "Link: https://projecteuler.net/problem=6\n",
    "Solved by fewer than 500,000 people"
   ]
  },
  {
   "cell_type": "code",
   "execution_count": 12,
   "metadata": {},
   "outputs": [
    {
     "name": "stdout",
     "output_type": "stream",
     "text": [
      "25164150\n"
     ]
    }
   ],
   "source": [
    "def ssd(my_num):\n",
    "    \"\"\"\n",
    "    This function solves the Sum Square Difference Problem. \n",
    "    Inputs: Integer \n",
    "    Output: Integer solution to the Sum Square Difference problem.    \n",
    "    \"\"\"\n",
    "    #create a list of natural numbers with user input    \n",
    "    my_list = list(range(1,my_num+1))\n",
    "    #sum the squares of each of the numbers in the list\n",
    "    sum_a = sum(map(lambda x:x*x,my_list))\n",
    "    #square the sums of all of the numbers in the list\n",
    "    sum_b = sum(my_list) **2\n",
    "    #find the difference in the two lists\n",
    "    sum_diff = sum_b - sum_a\n",
    "    #return the difference\n",
    "    return sum_diff\n",
    "print(ssd(my_num=100))"
   ]
  }
 ],
 "metadata": {
  "kernelspec": {
   "display_name": "Python 3",
   "language": "python",
   "name": "python3"
  },
  "language_info": {
   "codemirror_mode": {
    "name": "ipython",
    "version": 3
   },
   "file_extension": ".py",
   "mimetype": "text/x-python",
   "name": "python",
   "nbconvert_exporter": "python",
   "pygments_lexer": "ipython3",
   "version": "3.7.8"
  }
 },
 "nbformat": 4,
 "nbformat_minor": 4
}
