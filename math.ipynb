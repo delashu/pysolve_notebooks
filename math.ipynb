{
 "cells": [
  {
   "cell_type": "markdown",
   "source": [
    "**Question 1:**   \r\n",
    "Prime Power Triples  \r\n",
    "\r\n",
    "link: https://projecteuler.net/problem=87  \r\n",
    "\r\n",
    "Solved by fewer than 25,000 people"
   ],
   "metadata": {}
  },
  {
   "cell_type": "code",
   "execution_count": 10,
   "source": [
    "import numpy as np\r\n",
    "import math \r\n",
    "from itertools import product\r\n",
    "\r\n",
    "def prime_powers(upper_limit = 50000000):\r\n",
    "    \"\"\"\r\n",
    "    Input: upper limit integer sum of a prime square, prime cube, and prime fourth power. Default is fifty million    \r\n",
    "\r\n",
    "    Output: Unique numbers that can be expressed as the sum (less than fifty million) of a prime square, prime cube, and prime fourth power. \r\n",
    "\r\n",
    "    Behavior: This function takes the user input (default of fifty million) and first creates three upper limits of prime numbers to loop through. \r\n",
    "    Once the three limits are set, the function calculates the sum of a prime square, prime cube, and prime fourth power. If the sum is unique, the function adds to a counter. \r\n",
    "    \"\"\"    \r\n",
    "    #set the first prime\r\n",
    "    pnum = 2\r\n",
    "    #create an empty list for which the primes will be stored: \r\n",
    "    primes = []\r\n",
    "    #create three upper limits to iterate through\r\n",
    "    limit_one = math.ceil(math.sqrt(upper_limit - (2**3 + 2**4)))\r\n",
    "    limit_two= math.ceil((upper_limit - (2**2 + 2**4) )**(1/3))\r\n",
    "    limit_three= math.ceil((upper_limit - (2**2 + 2**4) )**(1/4))\r\n",
    "    #while loop to create primes based on the three upper limits. \r\n",
    "    while True: \r\n",
    "        for i in range(2, int(math.sqrt(pnum)+1)):\r\n",
    "            if pnum%i==0:\r\n",
    "                break\r\n",
    "        else:\r\n",
    "            primes.append(pnum)\r\n",
    "            #ensure that the primes we are making do not exceed the first limit\r\n",
    "            if pnum>limit_one:\r\n",
    "                break\r\n",
    "        pnum+=1\r\n",
    "    #first list to iterate through\r\n",
    "    primes_one = primes\r\n",
    "    #second list to iterate through\r\n",
    "    primes_two = primes[:limit_two]\r\n",
    "    #third list to iterate through\r\n",
    "    primes_three = primes[:limit_three]\r\n",
    "    #create empty set to update that stores the UNIQUE sums\r\n",
    "    out_list=set()\r\n",
    "    #loop through each limit\r\n",
    "    for p_one in primes_one:\r\n",
    "        for p_two in primes_two: \r\n",
    "            for p_three in primes_three:\r\n",
    "                psum = p_one**2 + p_two**3 + p_three**4\r\n",
    "                if psum > 50000000:\r\n",
    "                    break\r\n",
    "                else:\r\n",
    "                    out_list.update([psum])\r\n",
    "    return len(out_list)\r\n",
    "print(prime_powers(upper_limit = 50000000))\r\n"
   ],
   "outputs": [
    {
     "output_type": "stream",
     "name": "stdout",
     "text": [
      "1097343\n"
     ]
    }
   ],
   "metadata": {}
  },
  {
   "cell_type": "markdown",
   "source": [
    "**Question 2:** Permuted Multiples  \r\n",
    "link: https://projecteuler.net/problem=52  \r\n",
    "  \r\n",
    "Solved by fewer than 100,000 people"
   ],
   "metadata": {}
  },
  {
   "cell_type": "code",
   "execution_count": 11,
   "source": [
    "def permuted_multiples(my_input=2): \r\n",
    "    \"\"\"\r\n",
    "    This function solves the Permuted Multiples problem. \r\n",
    "    Input: default of integer value of 2\r\n",
    "    Output: The smallest integer,x in which 2x, 3x, 4x, 5x, and 6x, contain the same digits. \r\n",
    "    \"\"\"\r\n",
    "    #assign the user input value to a new variable\r\n",
    "    itr=my_input\r\n",
    "    #create an indicator variable for the While loop\r\n",
    "    ind=\"no\"\r\n",
    "    #while the indicator variable is \"no\":\r\n",
    "    while ind==\"no\":\r\n",
    "        #iterate through 6 - 1\r\n",
    "        for i in reversed(range(1,7)):\r\n",
    "            #multiply the input by the iteration number\r\n",
    "            vals=itr*i\r\n",
    "            #strip the digits from the product and place into a list\r\n",
    "            strvals = list(map(int, str(vals)))\r\n",
    "            #reassign the list to list, \"a\"\r\n",
    "            a = strvals\r\n",
    "            #If we are at the start of the for loop:\r\n",
    "            if i==max(range(1,7)): \r\n",
    "                #assign the list to, \"b\" for comparison purposes\r\n",
    "                b=strvals\r\n",
    "            else:\r\n",
    "                #check if the length of the lists and the unique value within the lists are the same\r\n",
    "                if len(a)==len(b) and set(a)==set(b):\r\n",
    "                    #if the values are the same AND we are at the end of the loop, we've solved the problem\r\n",
    "                    if i==min(range(1,7)):\r\n",
    "                        #capture the number\r\n",
    "                        return(itr)\r\n",
    "                        #break the while loop\r\n",
    "                        ind =\"yes\"\r\n",
    "                        break\r\n",
    "                    else: \r\n",
    "                        #if we are not at the end of the loop, keep going\r\n",
    "                        continue\r\n",
    "                else:\r\n",
    "                    #length of the lists or the sets of the lists are NOT the same \r\n",
    "                    #thus, we move onto the next possible integer\r\n",
    "                    itr+=1\r\n",
    "                    #reset the i value to the max of range(1,7)\r\n",
    "                    i=6\r\n",
    "                    #break the inner for loop\r\n",
    "                    break\r\n",
    "permuted_multiples(my_input=2)"
   ],
   "outputs": [
    {
     "output_type": "execute_result",
     "data": {
      "text/plain": [
       "142857"
      ]
     },
     "metadata": {},
     "execution_count": 11
    }
   ],
   "metadata": {}
  },
  {
   "cell_type": "markdown",
   "source": [
    "**Question 3**: Sum Square Difference  \r\n",
    "Link: https://projecteuler.net/problem=6   \r\n",
    "Solved by fewer than 500,000 people  "
   ],
   "metadata": {}
  },
  {
   "cell_type": "code",
   "execution_count": 12,
   "source": [
    "def ssd(my_num):\r\n",
    "    \"\"\"\r\n",
    "    This function solves the Sum Square Difference Problem. \r\n",
    "    Inputs: Integer \r\n",
    "    Output: Integer solution to the Sum Square Difference problem.    \r\n",
    "    \"\"\"\r\n",
    "    #create a list of natural numbers with user input    \r\n",
    "    my_list = list(range(1,my_num+1))\r\n",
    "    #sum the squares of each of the numbers in the list\r\n",
    "    sum_a = sum(map(lambda x:x*x,my_list))\r\n",
    "    #square the sums of all of the numbers in the list\r\n",
    "    sum_b = sum(my_list) **2\r\n",
    "    #find the difference in the two lists\r\n",
    "    sum_diff = sum_b - sum_a\r\n",
    "    #return the difference\r\n",
    "    return sum_diff\r\n",
    "print(ssd(my_num=100))"
   ],
   "outputs": [
    {
     "output_type": "stream",
     "name": "stdout",
     "text": [
      "25164150\n"
     ]
    }
   ],
   "metadata": {}
  }
 ],
 "metadata": {
  "kernelspec": {
   "display_name": "Python 3",
   "language": "python",
   "name": "python3"
  },
  "language_info": {
   "codemirror_mode": {
    "name": "ipython",
    "version": 3
   },
   "file_extension": ".py",
   "mimetype": "text/x-python",
   "name": "python",
   "nbconvert_exporter": "python",
   "pygments_lexer": "ipython3",
   "version": "3.7.8"
  }
 },
 "nbformat": 4,
 "nbformat_minor": 4
}