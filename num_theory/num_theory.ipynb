{
 "cells": [
  {
   "cell_type": "markdown",
   "metadata": {},
   "source": [
    "Name: Shusaku Asai  \n",
    "\n",
    "Link to full blog post:  \n",
    "https://delashu.github.io/bigdat/number_theory.html\n",
    "\n",
    "Jupyter notebook repo:  \n",
    "https://github.com/delashu/pysolve_notebooks/tree/main/num_theory\n",
    "\n",
    "Blog/website repo link:  \n",
    "https://github.com/delashu/delashu.github.io/tree/master/bigdat"
   ]
  },
  {
   "cell_type": "markdown",
   "metadata": {},
   "source": [
    "### Helper Function 1: *expand()*  \n",
    "Objective: Write a function to generate an arbitrarily large expansion of a mathematical expression like π.  "
   ]
  },
  {
   "cell_type": "code",
   "execution_count": 1,
   "metadata": {},
   "outputs": [],
   "source": [
    "import math\n",
    "from sympy import pi, E, N\n",
    "def expand(digits = 10, mathex = \"pi\", multiplier = 1):\n",
    "    \"\"\"\n",
    "    INPUT: digits - The number of digits past the decimal the user is interested in \n",
    "           mathex - The mathematical expression the user is intersted in \n",
    "           multliplier - Multipliers to the mathematical expression\n",
    "    BEHAVIOR: intakes desired math expression and outputs a string \n",
    "                representation for later processing\n",
    "    OUTPUT: A string representation of digits past the decimal\n",
    "    \"\"\"\n",
    "    #if the user input is pi\n",
    "    if mathex == \"pi\":\n",
    "        #we use sypmy's N and pi to create the user-input desired decimal expansion of pi\n",
    "        #convert to string for next function\n",
    "        myval = str(N(multiplier * pi, digits))\n",
    "        return myval\n",
    "    #we use sypmy's N and pi to create the user-input desired decimal expansion of e     \n",
    "    if mathex == \"e\":\n",
    "        #convert to string for next function\n",
    "        myval = str(N(multiplier * E, digits))\n",
    "        return myval"
   ]
  },
  {
   "cell_type": "markdown",
   "metadata": {},
   "source": [
    "Use case: "
   ]
  },
  {
   "cell_type": "code",
   "execution_count": 2,
   "metadata": {},
   "outputs": [
    {
     "data": {
      "text/plain": [
       "'3.141592654'"
      ]
     },
     "execution_count": 2,
     "metadata": {},
     "output_type": "execute_result"
    }
   ],
   "source": [
    "expand(digits = 10, mathex = \"pi\", multiplier = 1)"
   ]
  },
  {
   "cell_type": "markdown",
   "metadata": {},
   "source": [
    "### Helper Function 2:  *is_prime()*  \n",
    "Objective: Write a function to check if a number is prime.  "
   ]
  },
  {
   "cell_type": "code",
   "execution_count": 3,
   "metadata": {},
   "outputs": [],
   "source": [
    "def is_prime(user_num = 1):\n",
    "    \"\"\"\n",
    "    INPUT: Integer number to check if prime\n",
    "    BEHAVIOR:check if the user input is a prime number\n",
    "        by iteratively checking the ceiling of square roots\n",
    "    OUTPUT: string that shows \"prime\" or \"not prime\"\n",
    "    \"\"\"\n",
    "    if user_num > 1:    \n",
    "        #if the number is greater than 1, than we iterate\n",
    "        #from the input number to the cieling of the square root\n",
    "        for num in range(2, int(math.sqrt(user_num)+1)):\n",
    "            #if we find a whole number divisor, then the user input\n",
    "            #is not a FALSE\n",
    "            if (user_num % num) == 0:\n",
    "                return False\n",
    "        return True\n",
    "    #if the number input is less than one, \n",
    "    #then we have a NON prime immediately\n",
    "    return False"
   ]
  },
  {
   "cell_type": "markdown",
   "metadata": {},
   "source": [
    "Use Case:"
   ]
  },
  {
   "cell_type": "code",
   "execution_count": 4,
   "metadata": {},
   "outputs": [
    {
     "data": {
      "text/plain": [
       "True"
      ]
     },
     "execution_count": 4,
     "metadata": {},
     "output_type": "execute_result"
    }
   ],
   "source": [
    "is_prime(user_num = 5)"
   ]
  },
  {
   "cell_type": "markdown",
   "metadata": {},
   "source": [
    "### Helper Function 3: *sliding()*   \n",
    "Write a function to generate sliding windows of a specified width from a long iterable (e.g. a string representation of a number)  "
   ]
  },
  {
   "cell_type": "code",
   "execution_count": 5,
   "metadata": {},
   "outputs": [],
   "source": [
    "def sliding(my_string = \"8309735\", window=3):\n",
    "    \"\"\"\n",
    "    INPUT: string representation of a long integer. \n",
    "        sliding window length\n",
    "\n",
    "    BEHAVIOR:user inputs an integer and the function \n",
    "    will generate sliding windows of that input \n",
    "    length from a string representation of a number (iterable)\n",
    "    \n",
    "    OUTPUT: list of integers. \n",
    "    each integer is of specified sliding window length\n",
    "    \"\"\"\n",
    "    #intialize main empty list that will hold all sub-lists\n",
    "    all_lists = []\n",
    "    my_string = str(my_string.split('.')[-1])\n",
    "    #store the length of the string\n",
    "    total_len = len(my_string)\n",
    "    #create for loop to iterate through \n",
    "    #all possible sliding windows of the string\n",
    "    for i in range(0,(total_len - window+1)):\n",
    "        #create a substring that stores a window\n",
    "        substr = my_string[i:i+window]\n",
    "        #If the substring starts with 0, then we go to the next iteration of the loop\n",
    "        #we want integers with entire length. starting with 0 will break this\n",
    "        if substr[0] == '0':\n",
    "            continue\n",
    "        #append the string to the main list\n",
    "        all_lists.append(int(substr))\n",
    "    #return the main list that now contains all strings\n",
    "    return all_lists  "
   ]
  },
  {
   "cell_type": "markdown",
   "metadata": {},
   "source": [
    "Use Case:"
   ]
  },
  {
   "cell_type": "code",
   "execution_count": 6,
   "metadata": {},
   "outputs": [
    {
     "data": {
      "text/plain": [
       "[8309, 3097, 9747, 7479]"
      ]
     },
     "execution_count": 6,
     "metadata": {},
     "output_type": "execute_result"
    }
   ],
   "source": [
    "sliding(my_string = \"83097479\",window=4)"
   ]
  },
  {
   "cell_type": "markdown",
   "metadata": {},
   "source": [
    "### Final Function: \n",
    "Using all three prior helper functions "
   ]
  },
  {
   "cell_type": "code",
   "execution_count": 7,
   "metadata": {},
   "outputs": [],
   "source": [
    "def digit_prime(pdigits = 10, pmathex = \"pi\", pmultiplier = 1, pwindow=3):\n",
    "    \"\"\"\n",
    "    INPUT: \n",
    "        pdigits - The number of digits past the decimal the user is interested in\n",
    "        pmathex - The mathematical expression the user is intersted in \n",
    "        pmultliplier - Multipliers to the mathematical expression\n",
    "    \n",
    "    BEHAVIOR: \n",
    "        uses the helper functions 'expand', 'sliding' and 'is_prime' to \n",
    "        determine the first prime in the decimal expansion of user input's window length \n",
    "        from the user input's mathematical expression\n",
    "    \n",
    "    OUTPUT: \n",
    "        First prime digit of user specified length from \n",
    "        decimal expansion of user input mathematical expression\n",
    "    \"\"\"\n",
    "    #create string with 'expand' function\n",
    "    my_expression = expand(digits = pdigits, mathex = pmathex, multiplier = pmultiplier)\n",
    "    #create list of integers with length of user specified window\n",
    "    slide_list = sliding(my_string = my_expression, window = pwindow)\n",
    "    #iterate through the list and check if the value is prime\n",
    "    for i in slide_list:\n",
    "        if is_prime(i) == True:\n",
    "            #if prime, we end the loop by returning the integer\n",
    "            return(i)"
   ]
  },
  {
   "cell_type": "markdown",
   "metadata": {},
   "source": [
    "### Solve the Problem!"
   ]
  },
  {
   "cell_type": "code",
   "execution_count": 8,
   "metadata": {},
   "outputs": [
    {
     "data": {
      "text/plain": [
       "8649375157"
      ]
     },
     "execution_count": 8,
     "metadata": {},
     "output_type": "execute_result"
    }
   ],
   "source": [
    "digit_prime(pdigits = 120, pmathex = \"pi\", pmultiplier = 17, pwindow=10)"
   ]
  }
 ],
 "metadata": {
  "kernelspec": {
   "display_name": "Python 3",
   "language": "python",
   "name": "python3"
  },
  "language_info": {
   "codemirror_mode": {
    "name": "ipython",
    "version": 3
   },
   "file_extension": ".py",
   "mimetype": "text/x-python",
   "name": "python",
   "nbconvert_exporter": "python",
   "pygments_lexer": "ipython3",
   "version": "3.7.8"
  }
 },
 "nbformat": 4,
 "nbformat_minor": 4
}
